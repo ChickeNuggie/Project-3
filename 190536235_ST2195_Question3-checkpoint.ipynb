{
 "cells": [
  {
   "cell_type": "markdown",
   "id": "7a375acb",
   "metadata": {},
   "source": [
    "# Question 3: How does the number of people flying between different locations change over time?"
   ]
  },
  {
   "cell_type": "markdown",
   "id": "b9ec65f8",
   "metadata": {},
   "source": [
    "## Data pre-processing\n",
    "### Load the library"
   ]
  },
  {
   "cell_type": "code",
   "execution_count": null,
   "id": "51db50d5",
   "metadata": {},
   "outputs": [],
   "source": [
    "import sqlite3\n",
    "import pandas as pd\n",
    "import os\n",
    "import numpy as np\n",
    "from datetime import datetime\n",
    "import networkx as nx\n",
    "import calendar\n",
    "import seaborn as sns \n",
    "import matplotlib.pyplot as plt\n",
    "import random"
   ]
  },
  {
   "cell_type": "markdown",
   "id": "1fa5faf8",
   "metadata": {},
   "source": [
    "#### For running existing database file which was previously created in Question 1:"
   ]
  },
  {
   "cell_type": "code",
   "execution_count": null,
   "id": "b202f091",
   "metadata": {},
   "outputs": [],
   "source": [
    "conn = sqlite3.connect('D:/SIM courses/Programming/Project/Project/project_py/airline.db')\n",
    "c = conn.cursor() \n",
    "c.execute(\"SELECT name FROM sqlite_master where type = 'table'\").fetchall() "
   ]
  },
  {
   "cell_type": "markdown",
   "id": "2a4d6ee1",
   "metadata": {},
   "source": [
    "### Data query\n",
    "Grouping the months of total flights into quarters, excluding cancelled flights from ontime dataset before merging with other dataframe."
   ]
  },
  {
   "cell_type": "code",
   "execution_count": null,
   "id": "b1528dfe",
   "metadata": {},
   "outputs": [],
   "source": [
    "q4 = c.execute('''   \n",
    "                SELECT Count(*) as Total_Flights, Dest, Origin, Month\n",
    "                FROM ontime\n",
    "                WHERE Cancelled = 0 \n",
    "                GROUP BY Dest, Origin, Month\n",
    "                  ''').fetchall()\n",
    "q4 = pd.DataFrame(q4).reset_index()\n",
    "q4.columns = ['index','Total_Flights','Dest', 'Origin','Month']\n",
    "q4['quarterly'] = np.digitize(q4['Month'], [3, 6, 9, 12], right=True) + 1\n",
    "q4 = q4.drop(columns=['index'])"
   ]
  },
  {
   "cell_type": "markdown",
   "id": "80b327b0",
   "metadata": {},
   "source": [
    "External data source on passengers can be downloaded at: https://data.world/makeovermonday/2021w16/workspace/file?filename=US+Monthly+Air+Passengers.csv \n",
    "***(Note: may require to sign in using email to access this website, else unzip the 'US Monthly Air Passengers.csv' file provided in the submission)***\n",
    "\n",
    "The passengers data is then filtered to only include 2 years of dataset from 2007-2008, inclusive of relevant columns such as sum of passengers, origin and destination states and its abbreviated state name. The data is merged with q4 to determine top 15 destination with highest total flights and passengers travelling from origin to destination quarterly."
   ]
  },
  {
   "cell_type": "code",
   "execution_count": null,
   "id": "15899f03",
   "metadata": {},
   "outputs": [],
   "source": [
    "passengers = pd.read_csv(\"D:/SIM courses/Programming/Project/Project/US Monthly Air Passengers.csv\", index_col=None)\n",
    "\n",
    "passengers = passengers.loc[passengers['YEAR'].between(2007, 2008)]\n",
    "passengers.columns = [x.lower() for x in passengers.columns]\n",
    "q5 = pd.merge(q4,passengers, left_on=[\"Dest\",'Origin','Month'], right_on=['dest','origin','month'], how='inner') #,\"Month\",'MONTH'\n",
    "q5 = q5.loc[:,['origin','dest','quarterly','Total_Flights','sum_passengers', 'carrier_name', 'origin_state_abr','dest_state_abr']]\n",
    "\n",
    "q6 = q5.groupby(['origin','dest','quarterly']).aggregate('sum').reset_index().sort_values('sum_passengers', ascending=False)\n",
    "q6['combined'] = q6['origin'].astype(str)+'-'+q6['dest']\n",
    "q6.columns= ['Origin','Dest', 'Quarterly',\"Total_Flights\", \"Total_Passengers\",'Combined']\n",
    "q6_top_passengers = q6.groupby(['Dest', 'Origin']).apply(lambda p: p.nlargest(1, columns='Total_Passengers')).reset_index(level=[0,1], drop=True).sort_values('Total_Passengers', ascending=False)\n",
    "q6_top_flights = q6.groupby(['Dest', 'Origin']).apply(lambda p: p.nlargest(1, columns='Total_Flights')).reset_index(level=[0,1], drop=True).sort_values('Total_Flights', ascending=False)\n",
    "\n",
    "combined_passengers = q6_top_passengers.head(15)\n",
    "combined_flights = q6_top_flights.head(15)\n",
    "combined_name_passengers = combined_passengers['Combined']\n",
    "combined_name_flights = combined_flights['Combined']\n",
    "q6_combined_top_passengers = q6.loc[q6['Combined'].isin(combined_name_passengers)]\n",
    "q6_combined_top_flights = q6.loc[q6['Combined'].isin(combined_name_flights)]\n",
    "q6_combined_top_passengers\n",
    "q6_combined_top_flights"
   ]
  },
  {
   "cell_type": "markdown",
   "id": "64998843",
   "metadata": {},
   "source": [
    "Plot the graph to visualize top 15 destination with the highest flights and passengers quarterly."
   ]
  },
  {
   "cell_type": "code",
   "execution_count": null,
   "id": "6752ca45",
   "metadata": {},
   "outputs": [],
   "source": [
    "# Set the colour palette to colour-blind friendly\n",
    "sns.reset_orig()\n",
    "my_palette = sns.color_palette(\"colorblind\") \n",
    "my_palette\n",
    "plt.style.use('seaborn-colorblind')\n",
    "plt.style.available\n",
    "\n",
    "sns.set(rc={'figure.figsize':(30,15)})\n",
    "sns.barplot(x='Total_Passengers', y='Combined', hue='Quarterly', data=q6_combined_top_passengers , orient='h', alpha = 0.6).set_title('Total Quarterly Passengers of Top 15 Destinations')\n",
    "\n"
   ]
  },
  {
   "cell_type": "code",
   "execution_count": null,
   "id": "0b5a0e4c",
   "metadata": {},
   "outputs": [],
   "source": [
    "sns.set(rc={'figure.figsize':(10,10)})\n",
    "sns.barplot(x='Total_Flights', y='Combined', hue='Quarterly', data=q6_combined_top_flights , alpha = 0.6).set_title('Total Quarterly Flights of Top 15 Destinations')\n",
    "plt.ticklabel_format(style='plain', axis='x')\n"
   ]
  },
  {
   "cell_type": "code",
   "execution_count": null,
   "id": "849a25f8",
   "metadata": {},
   "outputs": [],
   "source": [
    "conn.close()"
   ]
  },
  {
   "cell_type": "markdown",
   "id": "9af1c452",
   "metadata": {},
   "source": [
    "Reference: \n",
    "\n",
    "Data.world. 2022. data.world. [online] Available at: <https://data.world/makeovermonday/2021w16/workspace/file?filename=US+Monthly+Air+Passengers.csv> [Accessed 12 March 2022]."
   ]
  },
  {
   "cell_type": "code",
   "execution_count": null,
   "id": "88062fd3",
   "metadata": {},
   "outputs": [],
   "source": []
  }
 ],
 "metadata": {
  "kernelspec": {
   "display_name": "Python 3",
   "language": "python",
   "name": "python3"
  },
  "language_info": {
   "codemirror_mode": {
    "name": "ipython",
    "version": 3
   },
   "file_extension": ".py",
   "mimetype": "text/x-python",
   "name": "python",
   "nbconvert_exporter": "python",
   "pygments_lexer": "ipython3",
   "version": "3.8.8"
  }
 },
 "nbformat": 4,
 "nbformat_minor": 5
}

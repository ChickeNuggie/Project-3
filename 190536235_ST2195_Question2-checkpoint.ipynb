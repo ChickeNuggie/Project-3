{
 "cells": [
  {
   "cell_type": "markdown",
   "id": "d90ae9e1",
   "metadata": {},
   "source": [
    "# Question 2: Do older planes suffer more delays? "
   ]
  },
  {
   "cell_type": "markdown",
   "id": "024177bc",
   "metadata": {},
   "source": [
    "## Data pre-processing\n",
    "### Load the library"
   ]
  },
  {
   "cell_type": "code",
   "execution_count": null,
   "id": "e6f3002d",
   "metadata": {},
   "outputs": [],
   "source": [
    "import sqlite3\n",
    "import pandas as pd\n",
    "import os\n",
    "import numpy as np\n",
    "from datetime import datetime\n",
    "import networkx as nx\n",
    "import calendar\n",
    "import seaborn as sns \n",
    "import matplotlib.pyplot as plt\n",
    "import random"
   ]
  },
  {
   "cell_type": "markdown",
   "id": "937711c5",
   "metadata": {},
   "source": [
    "#### For running existing database file which was previously created in Question 1:"
   ]
  },
  {
   "cell_type": "code",
   "execution_count": null,
   "id": "d47a58d0",
   "metadata": {},
   "outputs": [],
   "source": [
    "conn = sqlite3.connect('D:/SIM courses/Programming/Project/Project/project_py/airline.db')\n",
    "c = conn.cursor() \n",
    "c.execute(\"SELECT name FROM sqlite_master where type = 'table'\").fetchall()"
   ]
  },
  {
   "cell_type": "markdown",
   "id": "6ec33bf3",
   "metadata": {},
   "source": [
    "### Data query"
   ]
  },
  {
   "cell_type": "markdown",
   "id": "987398f6",
   "metadata": {},
   "source": [
    "Using issue dates as year of the plane that commercialized and used after manufacturing which then able to detect delays upon usage. The ontime data has been joined with planes via tailnum to determine its average departure delay for non-cancelled flights. It was then further grouped into dates where planes commercialized Before and After 2000 due to techonological advancement after 2000. Additionally, NAs values has been dropped to allow more accurate prediction."
   ]
  },
  {
   "cell_type": "code",
   "execution_count": null,
   "id": "e7afbaf6",
   "metadata": {},
   "outputs": [],
   "source": [
    "q3 = c.execute('''   \n",
    "                SELECT issue_date, AVG(DepDelay) as avg_depdelay, AVG(ArrDelay) as avg_arrdelay, model\n",
    "                FROM planes JOIN ontime ON planes.tailnum = ontime.TailNum\n",
    "                WHERE Cancelled = 0 \n",
    "                GROUP BY model, issue_date\n",
    "                ORDER BY avg_depdelay ASC\n",
    "                  ''').fetchall()\n",
    "                  \n",
    "q3 = pd.DataFrame(q3)  # reset index used for renaming colnames\n",
    "q3.columns = ['issue_date', 'avg_depdelay', 'avg_arrdelay', 'model']\n",
    "q3 = q3.replace('None', np.nan)\n",
    "q3 = q3[pd.notnull(q3['issue_date'])]\n",
    "q3['issue_date'] = q3['issue_date'].apply(lambda x : datetime.strptime(x, '%m/%d/%Y'))\n",
    "q3['issue_date'] = q3[\"issue_date\"].dt.strftime('%d-%m-%Y')\n",
    "\n",
    "q3['issue_date'] = pd.to_datetime(q3['issue_date'])\n",
    "q3[\"Model_Type\"] = \"\"\n",
    "q3.loc[(q3['issue_date'] >= '01-01-1890') & (q3['issue_date'] <= '31-12-1999'),  \"Model_Type\"] = \"Before 2000\"\n",
    "q3.loc[(q3['issue_date'] >= '01-01-2000'), \"Model_Type\"] = \"After 2000\"\n",
    "q3['issue_date'] = q3[\"issue_date\"].dt.strftime('%d-%m-%Y')\n",
    "q3"
   ]
  },
  {
   "cell_type": "markdown",
   "id": "c7bfef39",
   "metadata": {},
   "source": [
    "Plot to show the average departure and arrival delays for planes commercialized Before and After 2000."
   ]
  },
  {
   "cell_type": "code",
   "execution_count": null,
   "id": "f104fc93",
   "metadata": {
    "scrolled": true
   },
   "outputs": [],
   "source": [
    "fig, ax = plt.subplots()\n",
    "ax.barh(q3['Model_Type'], q3[\"avg_depdelay\"], height = 0.5, label='avg_depdelay')\n",
    "ax.barh(q3['Model_Type'], q3['avg_arrdelay'], height = 0.5, label='avg_arrdelay')\n",
    "ax.legend()\n",
    "ax.set_ylabel('Model Type')\n",
    "ax.set_xlabel('Average Delays')\n",
    "ax.title.set_text(\"Average Delays Before & After 2000\")\n",
    "plt.show()"
   ]
  },
  {
   "cell_type": "code",
   "execution_count": null,
   "id": "0460b3bc",
   "metadata": {},
   "outputs": [],
   "source": [
    "conn.close()"
   ]
  },
  {
   "cell_type": "code",
   "execution_count": null,
   "id": "33a2c325",
   "metadata": {},
   "outputs": [],
   "source": []
  }
 ],
 "metadata": {
  "kernelspec": {
   "display_name": "Python 3",
   "language": "python",
   "name": "python3"
  },
  "language_info": {
   "codemirror_mode": {
    "name": "ipython",
    "version": 3
   },
   "file_extension": ".py",
   "mimetype": "text/x-python",
   "name": "python",
   "nbconvert_exporter": "python",
   "pygments_lexer": "ipython3",
   "version": "3.8.8"
  }
 },
 "nbformat": 4,
 "nbformat_minor": 5
}
